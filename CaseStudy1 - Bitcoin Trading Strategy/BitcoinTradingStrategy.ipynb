{
 "cells": [
  {
   "cell_type": "markdown",
   "metadata": {
    "_cell_guid": "83708667-4fdc-1563-7b3a-06b6575d2865"
   },
   "source": [
    "\n",
    "\n",
    "# Bitcoin Price Prediction\n",
    "\n",
    "The goal of this case study is tu use classification based models to predict whether the current signal is **buy or sell** depending on the short term vs long term price."
   ]
  },
  {
   "cell_type": "markdown",
   "metadata": {},
   "source": [
    "## Content"
   ]
  },
  {
   "cell_type": "markdown",
   "metadata": {},
   "source": [
    "* [1. Problem Definition](#0)\n",
    "* [2. Getting Started - Load Libraries and Dataset](#1)\n",
    "    * [2.1. Load Libraries](#1.1)    \n",
    "    * [2.2. Load Dataset](#1.2)\n",
    "* [3. Exploratory Data Analysis](#2)\n",
    "    * [3.1 Descriptive Statistics](#2.1) \n",
    "* [4. Data Preparation](#3)\n",
    "    * [4.1 Data Cleaning](#3.1)\n",
    "    * [4.2. Preparing classification data](#3.2)\n",
    "    * [4.3. Feature Engineering-Constructing Technical Indicators](#3.3)\n",
    "    * [4.4.Data Visualisation](#3.4)\n",
    "* [5.Evaluate Algorithms and Models](#4)        \n",
    "    * [5.1. Train/Test Split](#4.1)\n",
    "    * [5.2. Test Options and Evaluation Metrics](#4.2)\n",
    "    * [5.3. Compare Models and Algorithms](#4.3) \n",
    "* [6. Model Tuning and Grid Search](#5)  \n",
    "* [7. Finalize the Model](#6)  \n",
    "    * [7.1. Results on test dataset](#6.1)\n",
    "    * [7.1. Variable Intuition/Feature Selection](#6.2) \n",
    "* [8. Backtesting](#7)     \n"
   ]
  },
  {
   "cell_type": "markdown",
   "metadata": {},
   "source": [
    "<a id='0'></a>\n",
    "# 1. Problem Definition"
   ]
  },
  {
   "cell_type": "markdown",
   "metadata": {},
   "source": [
    "The problem of predicting a buy or sell signal for a trading strategy is defined in the\n",
    "classification framework, where the predicted variable has a value of 1 for buy and 0\n",
    "for sell.\n",
    "\n",
    "The buy or sell signal are decided on the basis on the comparison of short term vs. long\n",
    "term price.\n",
    "\n",
    "For the purpose of presented case study, we get the data from one of the largest Bit‐\n",
    "coin exchanges in terms of average daily volume traded—Bitstamp (https://\n",
    "www.bitstamp.com). Data can be found at: https://www.kaggle.com/mczielinski/bitcoin-historical-data"
   ]
  },
  {
   "cell_type": "markdown",
   "metadata": {},
   "source": [
    "<a id='1'></a>\n",
    "# 2. Getting Started- Loading the data and python packages"
   ]
  },
  {
   "cell_type": "markdown",
   "metadata": {},
   "source": [
    "<a id='1.1'></a>\n",
    "## 2.1. Loading the python packages"
   ]
  },
  {
   "cell_type": "code",
   "execution_count": 1,
   "metadata": {
    "_cell_guid": "5d8fee34-f454-2642-8b06-ed719f0317e1"
   },
   "outputs": [
    {
     "name": "stderr",
     "output_type": "stream",
     "text": [
      "D:\\Anaconda\\lib\\site-packages\\pandas\\compat\\_optional.py:138: UserWarning: Pandas requires version '2.7.0' or newer of 'numexpr' (version '2.6.9' currently installed).\n",
      "  warnings.warn(msg, UserWarning)\n",
      "Using TensorFlow backend.\n",
      "D:\\Anaconda\\lib\\site-packages\\tensorflow\\python\\framework\\dtypes.py:516: FutureWarning: Passing (type, 1) or '1type' as a synonym of type is deprecated; in a future version of numpy, it will be understood as (type, (1,)) / '(1,)type'.\n",
      "  _np_qint8 = np.dtype([(\"qint8\", np.int8, 1)])\n",
      "D:\\Anaconda\\lib\\site-packages\\tensorflow\\python\\framework\\dtypes.py:517: FutureWarning: Passing (type, 1) or '1type' as a synonym of type is deprecated; in a future version of numpy, it will be understood as (type, (1,)) / '(1,)type'.\n",
      "  _np_quint8 = np.dtype([(\"quint8\", np.uint8, 1)])\n",
      "D:\\Anaconda\\lib\\site-packages\\tensorflow\\python\\framework\\dtypes.py:518: FutureWarning: Passing (type, 1) or '1type' as a synonym of type is deprecated; in a future version of numpy, it will be understood as (type, (1,)) / '(1,)type'.\n",
      "  _np_qint16 = np.dtype([(\"qint16\", np.int16, 1)])\n",
      "D:\\Anaconda\\lib\\site-packages\\tensorflow\\python\\framework\\dtypes.py:519: FutureWarning: Passing (type, 1) or '1type' as a synonym of type is deprecated; in a future version of numpy, it will be understood as (type, (1,)) / '(1,)type'.\n",
      "  _np_quint16 = np.dtype([(\"quint16\", np.uint16, 1)])\n",
      "D:\\Anaconda\\lib\\site-packages\\tensorflow\\python\\framework\\dtypes.py:520: FutureWarning: Passing (type, 1) or '1type' as a synonym of type is deprecated; in a future version of numpy, it will be understood as (type, (1,)) / '(1,)type'.\n",
      "  _np_qint32 = np.dtype([(\"qint32\", np.int32, 1)])\n",
      "D:\\Anaconda\\lib\\site-packages\\tensorflow\\python\\framework\\dtypes.py:525: FutureWarning: Passing (type, 1) or '1type' as a synonym of type is deprecated; in a future version of numpy, it will be understood as (type, (1,)) / '(1,)type'.\n",
      "  np_resource = np.dtype([(\"resource\", np.ubyte, 1)])\n",
      "D:\\Anaconda\\lib\\site-packages\\tensorboard\\compat\\tensorflow_stub\\dtypes.py:541: FutureWarning: Passing (type, 1) or '1type' as a synonym of type is deprecated; in a future version of numpy, it will be understood as (type, (1,)) / '(1,)type'.\n",
      "  _np_qint8 = np.dtype([(\"qint8\", np.int8, 1)])\n",
      "D:\\Anaconda\\lib\\site-packages\\tensorboard\\compat\\tensorflow_stub\\dtypes.py:542: FutureWarning: Passing (type, 1) or '1type' as a synonym of type is deprecated; in a future version of numpy, it will be understood as (type, (1,)) / '(1,)type'.\n",
      "  _np_quint8 = np.dtype([(\"quint8\", np.uint8, 1)])\n",
      "D:\\Anaconda\\lib\\site-packages\\tensorboard\\compat\\tensorflow_stub\\dtypes.py:543: FutureWarning: Passing (type, 1) or '1type' as a synonym of type is deprecated; in a future version of numpy, it will be understood as (type, (1,)) / '(1,)type'.\n",
      "  _np_qint16 = np.dtype([(\"qint16\", np.int16, 1)])\n",
      "D:\\Anaconda\\lib\\site-packages\\tensorboard\\compat\\tensorflow_stub\\dtypes.py:544: FutureWarning: Passing (type, 1) or '1type' as a synonym of type is deprecated; in a future version of numpy, it will be understood as (type, (1,)) / '(1,)type'.\n",
      "  _np_quint16 = np.dtype([(\"quint16\", np.uint16, 1)])\n",
      "D:\\Anaconda\\lib\\site-packages\\tensorboard\\compat\\tensorflow_stub\\dtypes.py:545: FutureWarning: Passing (type, 1) or '1type' as a synonym of type is deprecated; in a future version of numpy, it will be understood as (type, (1,)) / '(1,)type'.\n",
      "  _np_qint32 = np.dtype([(\"qint32\", np.int32, 1)])\n",
      "D:\\Anaconda\\lib\\site-packages\\tensorboard\\compat\\tensorflow_stub\\dtypes.py:550: FutureWarning: Passing (type, 1) or '1type' as a synonym of type is deprecated; in a future version of numpy, it will be understood as (type, (1,)) / '(1,)type'.\n",
      "  np_resource = np.dtype([(\"resource\", np.ubyte, 1)])\n"
     ]
    }
   ],
   "source": [
    "# Load libraries\n",
    "import numpy as np\n",
    "import pandas as pd\n",
    "import matplotlib.pyplot as plt\n",
    "from pandas import read_csv, set_option\n",
    "from pandas.plotting import scatter_matrix\n",
    "import seaborn as sns\n",
    "from sklearn.preprocessing import StandardScaler\n",
    "from sklearn.model_selection import train_test_split, KFold, cross_val_score, GridSearchCV\n",
    "from sklearn.linear_model import LogisticRegression\n",
    "from sklearn.tree import DecisionTreeClassifier\n",
    "from sklearn.neighbors import KNeighborsClassifier\n",
    "from sklearn.discriminant_analysis import LinearDiscriminantAnalysis\n",
    "from sklearn.naive_bayes import GaussianNB\n",
    "from sklearn.svm import SVC\n",
    "from sklearn.neural_network import MLPClassifier\n",
    "from sklearn.pipeline import Pipeline\n",
    "from sklearn.ensemble import AdaBoostClassifier, GradientBoostingClassifier, RandomForestClassifier, ExtraTreesClassifier\n",
    "from sklearn.metrics import classification_report, confusion_matrix, accuracy_score\n",
    "\n",
    "#Libraries for Deep Learning Models\n",
    "from keras.models import Sequential\n",
    "from keras.layers import Dense\n",
    "from keras.wrappers.scikit_learn import KerasClassifier\n",
    "from keras.optimizers import SGD\n"
   ]
  },
  {
   "cell_type": "markdown",
   "metadata": {},
   "source": [
    "<a id='1.2'></a>\n",
    "## 2.2. Loading the Data"
   ]
  },
  {
   "cell_type": "markdown",
   "metadata": {},
   "source": [
    "#### <font color='red'>Note : Due to limit in the github for the data size, a sample of the data has been loaded in the jupyter notebook repository of this book. However, all the subsequent results in this jupyter notebook is with actual data (~150MB) under https://www.kaggle.com/mlfinancebook/bitstamp-bicoin-minutes-data. You should load the full data in case you want to reproduce the results. </font> "
   ]
  },
  {
   "cell_type": "code",
   "execution_count": 2,
   "metadata": {
    "_cell_guid": "787e35f7-bf9e-0969-8d13-a54fa87f3519"
   },
   "outputs": [],
   "source": [
    "# load dataset\n",
    "dataset = pd.read_csv('BitstampData_sample.csv')"
   ]
  },
  {
   "cell_type": "code",
   "execution_count": 3,
   "metadata": {},
   "outputs": [],
   "source": [
    "#Diable the warnings\n",
    "import warnings\n",
    "warnings.filterwarnings('ignore')"
   ]
  },
  {
   "cell_type": "markdown",
   "metadata": {
    "_cell_guid": "df6a4523-b385-69ee-c933-592826d81431"
   },
   "source": [
    "<a id='2'></a>\n",
    "# 3. Exploratory Data Analysis"
   ]
  },
  {
   "cell_type": "markdown",
   "metadata": {},
   "source": [
    "<a id='2.1'></a>\n",
    "## 3.1. Descriptive Statistics"
   ]
  },
  {
   "cell_type": "code",
   "execution_count": 4,
   "metadata": {
    "_cell_guid": "52f85dc2-0f91-3c50-400e-ddc38bea966b"
   },
   "outputs": [
    {
     "data": {
      "text/plain": [
       "(2841377, 8)"
      ]
     },
     "execution_count": 4,
     "metadata": {},
     "output_type": "execute_result"
    }
   ],
   "source": [
    "# shape\n",
    "dataset.shape"
   ]
  },
  {
   "cell_type": "code",
   "execution_count": 5,
   "metadata": {},
   "outputs": [
    {
     "data": {
      "text/html": [
       "<div>\n",
       "<style scoped>\n",
       "    .dataframe tbody tr th:only-of-type {\n",
       "        vertical-align: middle;\n",
       "    }\n",
       "\n",
       "    .dataframe tbody tr th {\n",
       "        vertical-align: top;\n",
       "    }\n",
       "\n",
       "    .dataframe thead th {\n",
       "        text-align: right;\n",
       "    }\n",
       "</style>\n",
       "<table border=\"1\" class=\"dataframe\">\n",
       "  <thead>\n",
       "    <tr style=\"text-align: right;\">\n",
       "      <th></th>\n",
       "      <th>Timestamp</th>\n",
       "      <th>Open</th>\n",
       "      <th>High</th>\n",
       "      <th>Low</th>\n",
       "      <th>Close</th>\n",
       "      <th>Volume_(BTC)</th>\n",
       "      <th>Volume_(Currency)</th>\n",
       "      <th>Weighted_Price</th>\n",
       "    </tr>\n",
       "  </thead>\n",
       "  <tbody>\n",
       "    <tr>\n",
       "      <th>2841372</th>\n",
       "      <td>1496188560</td>\n",
       "      <td>2190.49</td>\n",
       "      <td>2190.49</td>\n",
       "      <td>2181.37</td>\n",
       "      <td>2181.37</td>\n",
       "      <td>1.700166</td>\n",
       "      <td>3723.784755</td>\n",
       "      <td>2190.247337</td>\n",
       "    </tr>\n",
       "    <tr>\n",
       "      <th>2841373</th>\n",
       "      <td>1496188620</td>\n",
       "      <td>2190.50</td>\n",
       "      <td>2197.52</td>\n",
       "      <td>2186.17</td>\n",
       "      <td>2195.63</td>\n",
       "      <td>6.561029</td>\n",
       "      <td>14402.811961</td>\n",
       "      <td>2195.206304</td>\n",
       "    </tr>\n",
       "    <tr>\n",
       "      <th>2841374</th>\n",
       "      <td>1496188680</td>\n",
       "      <td>2195.62</td>\n",
       "      <td>2197.52</td>\n",
       "      <td>2191.52</td>\n",
       "      <td>2191.83</td>\n",
       "      <td>15.662847</td>\n",
       "      <td>34361.023647</td>\n",
       "      <td>2193.791712</td>\n",
       "    </tr>\n",
       "    <tr>\n",
       "      <th>2841375</th>\n",
       "      <td>1496188740</td>\n",
       "      <td>2195.82</td>\n",
       "      <td>2216.00</td>\n",
       "      <td>2195.82</td>\n",
       "      <td>2203.51</td>\n",
       "      <td>27.090309</td>\n",
       "      <td>59913.492565</td>\n",
       "      <td>2211.620837</td>\n",
       "    </tr>\n",
       "    <tr>\n",
       "      <th>2841376</th>\n",
       "      <td>1496188800</td>\n",
       "      <td>2201.70</td>\n",
       "      <td>2209.81</td>\n",
       "      <td>2196.98</td>\n",
       "      <td>2208.33</td>\n",
       "      <td>9.961835</td>\n",
       "      <td>21972.308955</td>\n",
       "      <td>2205.648801</td>\n",
       "    </tr>\n",
       "  </tbody>\n",
       "</table>\n",
       "</div>"
      ],
      "text/plain": [
       "          Timestamp     Open     High      Low    Close  Volume_(BTC)  Volume_(Currency)  \\\n",
       "2841372  1496188560  2190.49  2190.49  2181.37  2181.37      1.700166        3723.784755   \n",
       "2841373  1496188620  2190.50  2197.52  2186.17  2195.63      6.561029       14402.811961   \n",
       "2841374  1496188680  2195.62  2197.52  2191.52  2191.83     15.662847       34361.023647   \n",
       "2841375  1496188740  2195.82  2216.00  2195.82  2203.51     27.090309       59913.492565   \n",
       "2841376  1496188800  2201.70  2209.81  2196.98  2208.33      9.961835       21972.308955   \n",
       "\n",
       "         Weighted_Price  \n",
       "2841372     2190.247337  \n",
       "2841373     2195.206304  \n",
       "2841374     2193.791712  \n",
       "2841375     2211.620837  \n",
       "2841376     2205.648801  "
      ]
     },
     "execution_count": 5,
     "metadata": {},
     "output_type": "execute_result"
    }
   ],
   "source": [
    "# peek at data\n",
    "set_option('display.width', 100)\n",
    "dataset.tail(5)"
   ]
  },
  {
   "cell_type": "code",
   "execution_count": 6,
   "metadata": {
    "_cell_guid": "7bffeec0-5bbc-fffb-18f2-3da56b862ca3"
   },
   "outputs": [
    {
     "data": {
      "text/html": [
       "<div>\n",
       "<style scoped>\n",
       "    .dataframe tbody tr th:only-of-type {\n",
       "        vertical-align: middle;\n",
       "    }\n",
       "\n",
       "    .dataframe tbody tr th {\n",
       "        vertical-align: top;\n",
       "    }\n",
       "\n",
       "    .dataframe thead th {\n",
       "        text-align: right;\n",
       "    }\n",
       "</style>\n",
       "<table border=\"1\" class=\"dataframe\">\n",
       "  <thead>\n",
       "    <tr style=\"text-align: right;\">\n",
       "      <th></th>\n",
       "      <th>Timestamp</th>\n",
       "      <th>Open</th>\n",
       "      <th>High</th>\n",
       "      <th>Low</th>\n",
       "      <th>Close</th>\n",
       "      <th>Volume_(BTC)</th>\n",
       "      <th>Volume_(Currency)</th>\n",
       "      <th>Weighted_Price</th>\n",
       "    </tr>\n",
       "  </thead>\n",
       "  <tbody>\n",
       "    <tr>\n",
       "      <th>count</th>\n",
       "      <td>2.841e+06</td>\n",
       "      <td>1.651e+06</td>\n",
       "      <td>1.651e+06</td>\n",
       "      <td>1.651e+06</td>\n",
       "      <td>1.651e+06</td>\n",
       "      <td>1.651e+06</td>\n",
       "      <td>1.651e+06</td>\n",
       "      <td>1.651e+06</td>\n",
       "    </tr>\n",
       "    <tr>\n",
       "      <th>mean</th>\n",
       "      <td>1.411e+09</td>\n",
       "      <td>4.959e+02</td>\n",
       "      <td>4.962e+02</td>\n",
       "      <td>4.955e+02</td>\n",
       "      <td>4.959e+02</td>\n",
       "      <td>1.188e+01</td>\n",
       "      <td>5.316e+03</td>\n",
       "      <td>4.959e+02</td>\n",
       "    </tr>\n",
       "    <tr>\n",
       "      <th>std</th>\n",
       "      <td>4.938e+07</td>\n",
       "      <td>3.642e+02</td>\n",
       "      <td>3.645e+02</td>\n",
       "      <td>3.639e+02</td>\n",
       "      <td>3.643e+02</td>\n",
       "      <td>4.094e+01</td>\n",
       "      <td>1.998e+04</td>\n",
       "      <td>3.642e+02</td>\n",
       "    </tr>\n",
       "    <tr>\n",
       "      <th>min</th>\n",
       "      <td>1.325e+09</td>\n",
       "      <td>3.800e+00</td>\n",
       "      <td>3.800e+00</td>\n",
       "      <td>1.500e+00</td>\n",
       "      <td>1.500e+00</td>\n",
       "      <td>0.000e+00</td>\n",
       "      <td>0.000e+00</td>\n",
       "      <td>3.800e+00</td>\n",
       "    </tr>\n",
       "    <tr>\n",
       "      <th>25%</th>\n",
       "      <td>1.368e+09</td>\n",
       "      <td>2.399e+02</td>\n",
       "      <td>2.400e+02</td>\n",
       "      <td>2.398e+02</td>\n",
       "      <td>2.399e+02</td>\n",
       "      <td>3.828e-01</td>\n",
       "      <td>1.240e+02</td>\n",
       "      <td>2.399e+02</td>\n",
       "    </tr>\n",
       "    <tr>\n",
       "      <th>50%</th>\n",
       "      <td>1.411e+09</td>\n",
       "      <td>4.200e+02</td>\n",
       "      <td>4.200e+02</td>\n",
       "      <td>4.199e+02</td>\n",
       "      <td>4.200e+02</td>\n",
       "      <td>1.823e+00</td>\n",
       "      <td>6.146e+02</td>\n",
       "      <td>4.200e+02</td>\n",
       "    </tr>\n",
       "    <tr>\n",
       "      <th>75%</th>\n",
       "      <td>1.454e+09</td>\n",
       "      <td>6.410e+02</td>\n",
       "      <td>6.417e+02</td>\n",
       "      <td>6.402e+02</td>\n",
       "      <td>6.410e+02</td>\n",
       "      <td>8.028e+00</td>\n",
       "      <td>3.108e+03</td>\n",
       "      <td>6.410e+02</td>\n",
       "    </tr>\n",
       "    <tr>\n",
       "      <th>max</th>\n",
       "      <td>1.496e+09</td>\n",
       "      <td>2.755e+03</td>\n",
       "      <td>2.760e+03</td>\n",
       "      <td>2.752e+03</td>\n",
       "      <td>2.755e+03</td>\n",
       "      <td>5.854e+03</td>\n",
       "      <td>1.866e+06</td>\n",
       "      <td>2.754e+03</td>\n",
       "    </tr>\n",
       "  </tbody>\n",
       "</table>\n",
       "</div>"
      ],
      "text/plain": [
       "       Timestamp       Open       High        Low      Close  Volume_(BTC)  Volume_(Currency)  \\\n",
       "count  2.841e+06  1.651e+06  1.651e+06  1.651e+06  1.651e+06     1.651e+06          1.651e+06   \n",
       "mean   1.411e+09  4.959e+02  4.962e+02  4.955e+02  4.959e+02     1.188e+01          5.316e+03   \n",
       "std    4.938e+07  3.642e+02  3.645e+02  3.639e+02  3.643e+02     4.094e+01          1.998e+04   \n",
       "min    1.325e+09  3.800e+00  3.800e+00  1.500e+00  1.500e+00     0.000e+00          0.000e+00   \n",
       "25%    1.368e+09  2.399e+02  2.400e+02  2.398e+02  2.399e+02     3.828e-01          1.240e+02   \n",
       "50%    1.411e+09  4.200e+02  4.200e+02  4.199e+02  4.200e+02     1.823e+00          6.146e+02   \n",
       "75%    1.454e+09  6.410e+02  6.417e+02  6.402e+02  6.410e+02     8.028e+00          3.108e+03   \n",
       "max    1.496e+09  2.755e+03  2.760e+03  2.752e+03  2.755e+03     5.854e+03          1.866e+06   \n",
       "\n",
       "       Weighted_Price  \n",
       "count       1.651e+06  \n",
       "mean        4.959e+02  \n",
       "std         3.642e+02  \n",
       "min         3.800e+00  \n",
       "25%         2.399e+02  \n",
       "50%         4.200e+02  \n",
       "75%         6.410e+02  \n",
       "max         2.754e+03  "
      ]
     },
     "execution_count": 6,
     "metadata": {},
     "output_type": "execute_result"
    }
   ],
   "source": [
    "# describe data\n",
    "set_option('precision', 3)\n",
    "dataset.describe()"
   ]
  },
  {
   "cell_type": "markdown",
   "metadata": {},
   "source": [
    "<a id='3'></a>\n",
    "# 4. Data Preparation"
   ]
  },
  {
   "cell_type": "markdown",
   "metadata": {},
   "source": [
    "<a id='3.1'></a>\n",
    "## 4.1. Data Cleaning"
   ]
  },
  {
   "cell_type": "code",
   "execution_count": 7,
   "metadata": {},
   "outputs": [
    {
     "name": "stdout",
     "output_type": "stream",
     "text": [
      "Null Values = True\n"
     ]
    }
   ],
   "source": [
    "#Checking for any null values and removing the null values'''\n",
    "print('Null Values =',dataset.isnull().values.any())"
   ]
  },
  {
   "cell_type": "markdown",
   "metadata": {},
   "source": [
    "Given that there are null values, we need to clean the data by filling the *NaNs* with the last available values. "
   ]
  },
  {
   "cell_type": "code",
   "execution_count": 8,
   "metadata": {},
   "outputs": [],
   "source": [
    "dataset[dataset.columns.values] = dataset[dataset.columns.values].ffill()"
   ]
  },
  {
   "cell_type": "code",
   "execution_count": 9,
   "metadata": {},
   "outputs": [],
   "source": [
    "dataset=dataset.drop(columns=['Timestamp'])"
   ]
  },
  {
   "cell_type": "markdown",
   "metadata": {},
   "source": [
    "<a id='3.2'></a>\n",
    "## 4.2. Preparing the data for classification"
   ]
  },
  {
   "cell_type": "markdown",
   "metadata": {},
   "source": [
    "We attach a label to each movement: \n",
    "* **1** if the signal is that short term price will go up as compared to the long term. \n",
    "* **0** if the signal is that short term price will go down as compared to the long term."
   ]
  },
  {
   "cell_type": "code",
   "execution_count": 10,
   "metadata": {},
   "outputs": [],
   "source": [
    "# Initialize the `signals` DataFrame with the `signal` column\n",
    "#datas['PriceMove'] = 0.0\n",
    "\n",
    "# Create short simple moving average over the short window\n",
    "dataset['short_mavg'] = dataset['Close'].rolling(window=10, min_periods=1, center=False).mean()\n",
    "\n",
    "# Create long simple moving average over the long window\n",
    "dataset['long_mavg'] = dataset['Close'].rolling(window=60, min_periods=1, center=False).mean()\n",
    "\n",
    "# Create signals\n",
    "dataset['signal'] = np.where(dataset['short_mavg'] > dataset['long_mavg'], 1.0, 0.0)"
   ]
  },
  {
   "cell_type": "code",
   "execution_count": 11,
   "metadata": {},
   "outputs": [
    {
     "data": {
      "text/html": [
       "<div>\n",
       "<style scoped>\n",
       "    .dataframe tbody tr th:only-of-type {\n",
       "        vertical-align: middle;\n",
       "    }\n",
       "\n",
       "    .dataframe tbody tr th {\n",
       "        vertical-align: top;\n",
       "    }\n",
       "\n",
       "    .dataframe thead th {\n",
       "        text-align: right;\n",
       "    }\n",
       "</style>\n",
       "<table border=\"1\" class=\"dataframe\">\n",
       "  <thead>\n",
       "    <tr style=\"text-align: right;\">\n",
       "      <th></th>\n",
       "      <th>Open</th>\n",
       "      <th>High</th>\n",
       "      <th>Low</th>\n",
       "      <th>Close</th>\n",
       "      <th>Volume_(BTC)</th>\n",
       "      <th>Volume_(Currency)</th>\n",
       "      <th>Weighted_Price</th>\n",
       "      <th>short_mavg</th>\n",
       "      <th>long_mavg</th>\n",
       "      <th>signal</th>\n",
       "    </tr>\n",
       "  </thead>\n",
       "  <tbody>\n",
       "    <tr>\n",
       "      <th>2841372</th>\n",
       "      <td>2190.49</td>\n",
       "      <td>2190.49</td>\n",
       "      <td>2181.37</td>\n",
       "      <td>2181.37</td>\n",
       "      <td>1.700</td>\n",
       "      <td>3723.785</td>\n",
       "      <td>2190.247</td>\n",
       "      <td>2179.259</td>\n",
       "      <td>2189.616</td>\n",
       "      <td>0.0</td>\n",
       "    </tr>\n",
       "    <tr>\n",
       "      <th>2841373</th>\n",
       "      <td>2190.50</td>\n",
       "      <td>2197.52</td>\n",
       "      <td>2186.17</td>\n",
       "      <td>2195.63</td>\n",
       "      <td>6.561</td>\n",
       "      <td>14402.812</td>\n",
       "      <td>2195.206</td>\n",
       "      <td>2181.622</td>\n",
       "      <td>2189.877</td>\n",
       "      <td>0.0</td>\n",
       "    </tr>\n",
       "    <tr>\n",
       "      <th>2841374</th>\n",
       "      <td>2195.62</td>\n",
       "      <td>2197.52</td>\n",
       "      <td>2191.52</td>\n",
       "      <td>2191.83</td>\n",
       "      <td>15.663</td>\n",
       "      <td>34361.024</td>\n",
       "      <td>2193.792</td>\n",
       "      <td>2183.605</td>\n",
       "      <td>2189.943</td>\n",
       "      <td>0.0</td>\n",
       "    </tr>\n",
       "    <tr>\n",
       "      <th>2841375</th>\n",
       "      <td>2195.82</td>\n",
       "      <td>2216.00</td>\n",
       "      <td>2195.82</td>\n",
       "      <td>2203.51</td>\n",
       "      <td>27.090</td>\n",
       "      <td>59913.493</td>\n",
       "      <td>2211.621</td>\n",
       "      <td>2187.018</td>\n",
       "      <td>2190.204</td>\n",
       "      <td>0.0</td>\n",
       "    </tr>\n",
       "    <tr>\n",
       "      <th>2841376</th>\n",
       "      <td>2201.70</td>\n",
       "      <td>2209.81</td>\n",
       "      <td>2196.98</td>\n",
       "      <td>2208.33</td>\n",
       "      <td>9.962</td>\n",
       "      <td>21972.309</td>\n",
       "      <td>2205.649</td>\n",
       "      <td>2190.712</td>\n",
       "      <td>2190.510</td>\n",
       "      <td>1.0</td>\n",
       "    </tr>\n",
       "  </tbody>\n",
       "</table>\n",
       "</div>"
      ],
      "text/plain": [
       "            Open     High      Low    Close  Volume_(BTC)  Volume_(Currency)  Weighted_Price  \\\n",
       "2841372  2190.49  2190.49  2181.37  2181.37         1.700           3723.785        2190.247   \n",
       "2841373  2190.50  2197.52  2186.17  2195.63         6.561          14402.812        2195.206   \n",
       "2841374  2195.62  2197.52  2191.52  2191.83        15.663          34361.024        2193.792   \n",
       "2841375  2195.82  2216.00  2195.82  2203.51        27.090          59913.493        2211.621   \n",
       "2841376  2201.70  2209.81  2196.98  2208.33         9.962          21972.309        2205.649   \n",
       "\n",
       "         short_mavg  long_mavg  signal  \n",
       "2841372    2179.259   2189.616     0.0  \n",
       "2841373    2181.622   2189.877     0.0  \n",
       "2841374    2183.605   2189.943     0.0  \n",
       "2841375    2187.018   2190.204     0.0  \n",
       "2841376    2190.712   2190.510     1.0  "
      ]
     },
     "execution_count": 11,
     "metadata": {},
     "output_type": "execute_result"
    }
   ],
   "source": [
    "dataset.tail()"
   ]
  },
  {
   "cell_type": "markdown",
   "metadata": {},
   "source": [
    "<a id='3.3'></a>\n",
    "## 4.3. Feature Engineering"
   ]
  },
  {
   "cell_type": "markdown",
   "metadata": {},
   "source": [
    "We begin by the constructing a dataset that contains the predictors which will be used to make the predictions, and the output variable.\n",
    "\n",
    "The current Data of the bicoin consists of date, open, high, low, close and Volume. Using this data we calculate the following  technical indicators:\n",
    "* **Moving Average** : A moving average provides an indication of the trend of the price movement by cut down the amount of \"noise\" on a price chart. \n",
    "* **Stochastic Oscillator %K and %D** : A stochastic oscillator is a momentum indicator comparing a particular closing price of a security to a range of its prices over a certain period of time. %K and %D are slow and fast indicators.\n",
    "* **Relative Strength Index(RSI)** :It is a momentum indicator that measures the magnitude of recent price changes to evaluate overbought or oversold conditions in the price of a stock or other asset. \n",
    "* **Rate Of Change(ROC)**: It is a momentum oscillator, which measures the percentage change between the current price and the n period past price. \n",
    "* **Momentum (MOM)** : It is the rate of acceleration of a security's price or volume – that is, the speed at which the price is changing."
   ]
  },
  {
   "cell_type": "code",
   "execution_count": 12,
   "metadata": {},
   "outputs": [],
   "source": [
    "#calculation of exponential moving average\n",
    "def EMA(df, n):\n",
    "    EMA = pd.Series(df['Close'].ewm(span=n, min_periods=n).mean(), name='EMA_' + str(n))\n",
    "    return EMA\n",
    "dataset['EMA10'] = EMA(dataset, 10)\n",
    "dataset['EMA30'] = EMA(dataset, 30)\n",
    "dataset['EMA200'] = EMA(dataset, 200)\n",
    "dataset.head()\n",
    "\n",
    "#calculation of rate of change\n",
    "def ROC(df, n):  \n",
    "    M = df.diff(n - 1)  \n",
    "    N = df.shift(n - 1)  \n",
    "    ROC = pd.Series(((M / N) * 100), name = 'ROC_' + str(n))   \n",
    "    return ROC\n",
    "dataset['ROC10'] = ROC(dataset['Close'], 10)\n",
    "dataset['ROC30'] = ROC(dataset['Close'], 30)\n",
    "\n",
    "#Calculation of price momentum\n",
    "def MOM(df, n):   \n",
    "    MOM = pd.Series(df.diff(n), name='Momentum_' + str(n))   \n",
    "    return MOM\n",
    "dataset['MOM10'] = MOM(dataset['Close'], 10)\n",
    "dataset['MOM30'] = MOM(dataset['Close'], 30)\n",
    "\n",
    "#calculation of relative strength index\n",
    "def RSI(series, period):\n",
    " delta = series.diff().dropna()\n",
    " u = delta * 0\n",
    " d = u.copy()\n",
    " u[delta > 0] = delta[delta > 0]\n",
    " d[delta < 0] = -delta[delta < 0]\n",
    " u[u.index[period-1]] = np.mean( u[:period] ) #first value is sum of avg gains\n",
    " u = u.drop(u.index[:(period-1)])\n",
    " d[d.index[period-1]] = np.mean( d[:period] ) #first value is sum of avg losses\n",
    " d = d.drop(d.index[:(period-1)])\n",
    " rs = u.ewm(com=period-1, adjust=False).mean() / \\\n",
    " d.ewm(com=period-1, adjust=False).mean()\n",
    " return 100 - 100 / (1 + rs)\n",
    "dataset['RSI10'] = RSI(dataset['Close'], 10)\n",
    "dataset['RSI30'] = RSI(dataset['Close'], 30)\n",
    "dataset['RSI200'] = RSI(dataset['Close'], 200)\n",
    "\n",
    "#calculation of stochastic osillator.\n",
    "\n",
    "def STOK(close, low, high, n): \n",
    " STOK = ((close - low.rolling(n).min()) / (high.rolling(n).max() - low.rolling(n).min())) * 100\n",
    " return STOK\n",
    "\n",
    "def STOD(close, low, high, n):\n",
    " STOK = ((close - low.rolling(n).min()) / (high.rolling(n).max() - low.rolling(n).min())) * 100\n",
    " STOD = STOK.rolling(3).mean()\n",
    " return STOD\n",
    "\n",
    "dataset['%K10'] = STOK(dataset['Close'], dataset['Low'], dataset['High'], 10)\n",
    "dataset['%D10'] = STOD(dataset['Close'], dataset['Low'], dataset['High'], 10)\n",
    "dataset['%K30'] = STOK(dataset['Close'], dataset['Low'], dataset['High'], 30)\n",
    "dataset['%D30'] = STOD(dataset['Close'], dataset['Low'], dataset['High'], 30)\n",
    "dataset['%K200'] = STOK(dataset['Close'], dataset['Low'], dataset['High'], 200)\n",
    "dataset['%D200'] = STOD(dataset['Close'], dataset['Low'], dataset['High'], 200)"
   ]
  },
  {
   "cell_type": "code",
   "execution_count": 13,
   "metadata": {},
   "outputs": [
    {
     "data": {
      "text/html": [
       "<div>\n",
       "<style scoped>\n",
       "    .dataframe tbody tr th:only-of-type {\n",
       "        vertical-align: middle;\n",
       "    }\n",
       "\n",
       "    .dataframe tbody tr th {\n",
       "        vertical-align: top;\n",
       "    }\n",
       "\n",
       "    .dataframe thead th {\n",
       "        text-align: right;\n",
       "    }\n",
       "</style>\n",
       "<table border=\"1\" class=\"dataframe\">\n",
       "  <thead>\n",
       "    <tr style=\"text-align: right;\">\n",
       "      <th></th>\n",
       "      <th>Open</th>\n",
       "      <th>High</th>\n",
       "      <th>Low</th>\n",
       "      <th>Close</th>\n",
       "      <th>Volume_(BTC)</th>\n",
       "      <th>Volume_(Currency)</th>\n",
       "      <th>Weighted_Price</th>\n",
       "      <th>short_mavg</th>\n",
       "      <th>long_mavg</th>\n",
       "      <th>signal</th>\n",
       "      <th>...</th>\n",
       "      <th>RSI200</th>\n",
       "      <th>%K10</th>\n",
       "      <th>%D10</th>\n",
       "      <th>%K30</th>\n",
       "      <th>%D30</th>\n",
       "      <th>%K200</th>\n",
       "      <th>%D200</th>\n",
       "      <th>MA21</th>\n",
       "      <th>MA63</th>\n",
       "      <th>MA252</th>\n",
       "    </tr>\n",
       "  </thead>\n",
       "  <tbody>\n",
       "    <tr>\n",
       "      <th>2841372</th>\n",
       "      <td>2190.49</td>\n",
       "      <td>2190.49</td>\n",
       "      <td>2181.37</td>\n",
       "      <td>2181.37</td>\n",
       "      <td>1.700</td>\n",
       "      <td>3723.785</td>\n",
       "      <td>2190.247</td>\n",
       "      <td>2179.259</td>\n",
       "      <td>2189.616</td>\n",
       "      <td>0.0</td>\n",
       "      <td>...</td>\n",
       "      <td>46.613</td>\n",
       "      <td>56.447</td>\n",
       "      <td>73.774</td>\n",
       "      <td>47.883</td>\n",
       "      <td>59.889</td>\n",
       "      <td>16.012</td>\n",
       "      <td>18.930</td>\n",
       "      <td>2179.259</td>\n",
       "      <td>2182.291</td>\n",
       "      <td>2220.727</td>\n",
       "    </tr>\n",
       "    <tr>\n",
       "      <th>2841373</th>\n",
       "      <td>2190.50</td>\n",
       "      <td>2197.52</td>\n",
       "      <td>2186.17</td>\n",
       "      <td>2195.63</td>\n",
       "      <td>6.561</td>\n",
       "      <td>14402.812</td>\n",
       "      <td>2195.206</td>\n",
       "      <td>2181.622</td>\n",
       "      <td>2189.877</td>\n",
       "      <td>0.0</td>\n",
       "      <td>...</td>\n",
       "      <td>47.638</td>\n",
       "      <td>93.687</td>\n",
       "      <td>71.712</td>\n",
       "      <td>93.805</td>\n",
       "      <td>65.119</td>\n",
       "      <td>26.697</td>\n",
       "      <td>20.096</td>\n",
       "      <td>2181.622</td>\n",
       "      <td>2182.292</td>\n",
       "      <td>2220.295</td>\n",
       "    </tr>\n",
       "    <tr>\n",
       "      <th>2841374</th>\n",
       "      <td>2195.62</td>\n",
       "      <td>2197.52</td>\n",
       "      <td>2191.52</td>\n",
       "      <td>2191.83</td>\n",
       "      <td>15.663</td>\n",
       "      <td>34361.024</td>\n",
       "      <td>2193.792</td>\n",
       "      <td>2183.605</td>\n",
       "      <td>2189.943</td>\n",
       "      <td>0.0</td>\n",
       "      <td>...</td>\n",
       "      <td>47.395</td>\n",
       "      <td>80.995</td>\n",
       "      <td>77.043</td>\n",
       "      <td>81.350</td>\n",
       "      <td>74.346</td>\n",
       "      <td>23.850</td>\n",
       "      <td>22.186</td>\n",
       "      <td>2183.605</td>\n",
       "      <td>2182.120</td>\n",
       "      <td>2219.802</td>\n",
       "    </tr>\n",
       "    <tr>\n",
       "      <th>2841375</th>\n",
       "      <td>2195.82</td>\n",
       "      <td>2216.00</td>\n",
       "      <td>2195.82</td>\n",
       "      <td>2203.51</td>\n",
       "      <td>27.090</td>\n",
       "      <td>59913.493</td>\n",
       "      <td>2211.621</td>\n",
       "      <td>2187.018</td>\n",
       "      <td>2190.204</td>\n",
       "      <td>0.0</td>\n",
       "      <td>...</td>\n",
       "      <td>48.213</td>\n",
       "      <td>74.205</td>\n",
       "      <td>82.963</td>\n",
       "      <td>74.505</td>\n",
       "      <td>83.220</td>\n",
       "      <td>32.602</td>\n",
       "      <td>27.716</td>\n",
       "      <td>2187.018</td>\n",
       "      <td>2182.337</td>\n",
       "      <td>2219.396</td>\n",
       "    </tr>\n",
       "    <tr>\n",
       "      <th>2841376</th>\n",
       "      <td>2201.70</td>\n",
       "      <td>2209.81</td>\n",
       "      <td>2196.98</td>\n",
       "      <td>2208.33</td>\n",
       "      <td>9.962</td>\n",
       "      <td>21972.309</td>\n",
       "      <td>2205.649</td>\n",
       "      <td>2190.712</td>\n",
       "      <td>2190.510</td>\n",
       "      <td>1.0</td>\n",
       "      <td>...</td>\n",
       "      <td>48.545</td>\n",
       "      <td>82.810</td>\n",
       "      <td>79.337</td>\n",
       "      <td>84.344</td>\n",
       "      <td>80.066</td>\n",
       "      <td>36.440</td>\n",
       "      <td>30.964</td>\n",
       "      <td>2190.712</td>\n",
       "      <td>2182.715</td>\n",
       "      <td>2218.980</td>\n",
       "    </tr>\n",
       "  </tbody>\n",
       "</table>\n",
       "<p>5 rows × 29 columns</p>\n",
       "</div>"
      ],
      "text/plain": [
       "            Open     High      Low    Close  Volume_(BTC)  Volume_(Currency)  Weighted_Price  \\\n",
       "2841372  2190.49  2190.49  2181.37  2181.37         1.700           3723.785        2190.247   \n",
       "2841373  2190.50  2197.52  2186.17  2195.63         6.561          14402.812        2195.206   \n",
       "2841374  2195.62  2197.52  2191.52  2191.83        15.663          34361.024        2193.792   \n",
       "2841375  2195.82  2216.00  2195.82  2203.51        27.090          59913.493        2211.621   \n",
       "2841376  2201.70  2209.81  2196.98  2208.33         9.962          21972.309        2205.649   \n",
       "\n",
       "         short_mavg  long_mavg  signal  ...  RSI200    %K10    %D10    %K30    %D30   %K200  \\\n",
       "2841372    2179.259   2189.616     0.0  ...  46.613  56.447  73.774  47.883  59.889  16.012   \n",
       "2841373    2181.622   2189.877     0.0  ...  47.638  93.687  71.712  93.805  65.119  26.697   \n",
       "2841374    2183.605   2189.943     0.0  ...  47.395  80.995  77.043  81.350  74.346  23.850   \n",
       "2841375    2187.018   2190.204     0.0  ...  48.213  74.205  82.963  74.505  83.220  32.602   \n",
       "2841376    2190.712   2190.510     1.0  ...  48.545  82.810  79.337  84.344  80.066  36.440   \n",
       "\n",
       "          %D200      MA21      MA63     MA252  \n",
       "2841372  18.930  2179.259  2182.291  2220.727  \n",
       "2841373  20.096  2181.622  2182.292  2220.295  \n",
       "2841374  22.186  2183.605  2182.120  2219.802  \n",
       "2841375  27.716  2187.018  2182.337  2219.396  \n",
       "2841376  30.964  2190.712  2182.715  2218.980  \n",
       "\n",
       "[5 rows x 29 columns]"
      ]
     },
     "execution_count": 13,
     "metadata": {},
     "output_type": "execute_result"
    }
   ],
   "source": [
    "#Calculation of moving average\n",
    "def MA(df, n):\n",
    "    MA = pd.Series(df['Close'].rolling(n, min_periods=n).mean(), name='MA_' + str(n))\n",
    "    return MA\n",
    "dataset['MA21'] = MA(dataset, 10)\n",
    "dataset['MA63'] = MA(dataset, 30)\n",
    "dataset['MA252'] = MA(dataset, 200)\n",
    "dataset.tail()"
   ]
  },
  {
   "cell_type": "code",
   "execution_count": 14,
   "metadata": {},
   "outputs": [
    {
     "data": {
      "text/html": [
       "<div>\n",
       "<style scoped>\n",
       "    .dataframe tbody tr th:only-of-type {\n",
       "        vertical-align: middle;\n",
       "    }\n",
       "\n",
       "    .dataframe tbody tr th {\n",
       "        vertical-align: top;\n",
       "    }\n",
       "\n",
       "    .dataframe thead th {\n",
       "        text-align: right;\n",
       "    }\n",
       "</style>\n",
       "<table border=\"1\" class=\"dataframe\">\n",
       "  <thead>\n",
       "    <tr style=\"text-align: right;\">\n",
       "      <th></th>\n",
       "      <th>Open</th>\n",
       "      <th>High</th>\n",
       "      <th>Low</th>\n",
       "      <th>Close</th>\n",
       "      <th>Volume_(BTC)</th>\n",
       "      <th>Volume_(Currency)</th>\n",
       "      <th>Weighted_Price</th>\n",
       "      <th>short_mavg</th>\n",
       "      <th>long_mavg</th>\n",
       "      <th>signal</th>\n",
       "      <th>...</th>\n",
       "      <th>RSI200</th>\n",
       "      <th>%K10</th>\n",
       "      <th>%D10</th>\n",
       "      <th>%K30</th>\n",
       "      <th>%D30</th>\n",
       "      <th>%K200</th>\n",
       "      <th>%D200</th>\n",
       "      <th>MA21</th>\n",
       "      <th>MA63</th>\n",
       "      <th>MA252</th>\n",
       "    </tr>\n",
       "  </thead>\n",
       "  <tbody>\n",
       "    <tr>\n",
       "      <th>2841372</th>\n",
       "      <td>2190.49</td>\n",
       "      <td>2190.49</td>\n",
       "      <td>2181.37</td>\n",
       "      <td>2181.37</td>\n",
       "      <td>1.700</td>\n",
       "      <td>3723.785</td>\n",
       "      <td>2190.247</td>\n",
       "      <td>2179.259</td>\n",
       "      <td>2189.616</td>\n",
       "      <td>0.0</td>\n",
       "      <td>...</td>\n",
       "      <td>46.613</td>\n",
       "      <td>56.447</td>\n",
       "      <td>73.774</td>\n",
       "      <td>47.883</td>\n",
       "      <td>59.889</td>\n",
       "      <td>16.012</td>\n",
       "      <td>18.930</td>\n",
       "      <td>2179.259</td>\n",
       "      <td>2182.291</td>\n",
       "      <td>2220.727</td>\n",
       "    </tr>\n",
       "    <tr>\n",
       "      <th>2841373</th>\n",
       "      <td>2190.50</td>\n",
       "      <td>2197.52</td>\n",
       "      <td>2186.17</td>\n",
       "      <td>2195.63</td>\n",
       "      <td>6.561</td>\n",
       "      <td>14402.812</td>\n",
       "      <td>2195.206</td>\n",
       "      <td>2181.622</td>\n",
       "      <td>2189.877</td>\n",
       "      <td>0.0</td>\n",
       "      <td>...</td>\n",
       "      <td>47.638</td>\n",
       "      <td>93.687</td>\n",
       "      <td>71.712</td>\n",
       "      <td>93.805</td>\n",
       "      <td>65.119</td>\n",
       "      <td>26.697</td>\n",
       "      <td>20.096</td>\n",
       "      <td>2181.622</td>\n",
       "      <td>2182.292</td>\n",
       "      <td>2220.295</td>\n",
       "    </tr>\n",
       "    <tr>\n",
       "      <th>2841374</th>\n",
       "      <td>2195.62</td>\n",
       "      <td>2197.52</td>\n",
       "      <td>2191.52</td>\n",
       "      <td>2191.83</td>\n",
       "      <td>15.663</td>\n",
       "      <td>34361.024</td>\n",
       "      <td>2193.792</td>\n",
       "      <td>2183.605</td>\n",
       "      <td>2189.943</td>\n",
       "      <td>0.0</td>\n",
       "      <td>...</td>\n",
       "      <td>47.395</td>\n",
       "      <td>80.995</td>\n",
       "      <td>77.043</td>\n",
       "      <td>81.350</td>\n",
       "      <td>74.346</td>\n",
       "      <td>23.850</td>\n",
       "      <td>22.186</td>\n",
       "      <td>2183.605</td>\n",
       "      <td>2182.120</td>\n",
       "      <td>2219.802</td>\n",
       "    </tr>\n",
       "    <tr>\n",
       "      <th>2841375</th>\n",
       "      <td>2195.82</td>\n",
       "      <td>2216.00</td>\n",
       "      <td>2195.82</td>\n",
       "      <td>2203.51</td>\n",
       "      <td>27.090</td>\n",
       "      <td>59913.493</td>\n",
       "      <td>2211.621</td>\n",
       "      <td>2187.018</td>\n",
       "      <td>2190.204</td>\n",
       "      <td>0.0</td>\n",
       "      <td>...</td>\n",
       "      <td>48.213</td>\n",
       "      <td>74.205</td>\n",
       "      <td>82.963</td>\n",
       "      <td>74.505</td>\n",
       "      <td>83.220</td>\n",
       "      <td>32.602</td>\n",
       "      <td>27.716</td>\n",
       "      <td>2187.018</td>\n",
       "      <td>2182.337</td>\n",
       "      <td>2219.396</td>\n",
       "    </tr>\n",
       "    <tr>\n",
       "      <th>2841376</th>\n",
       "      <td>2201.70</td>\n",
       "      <td>2209.81</td>\n",
       "      <td>2196.98</td>\n",
       "      <td>2208.33</td>\n",
       "      <td>9.962</td>\n",
       "      <td>21972.309</td>\n",
       "      <td>2205.649</td>\n",
       "      <td>2190.712</td>\n",
       "      <td>2190.510</td>\n",
       "      <td>1.0</td>\n",
       "      <td>...</td>\n",
       "      <td>48.545</td>\n",
       "      <td>82.810</td>\n",
       "      <td>79.337</td>\n",
       "      <td>84.344</td>\n",
       "      <td>80.066</td>\n",
       "      <td>36.440</td>\n",
       "      <td>30.964</td>\n",
       "      <td>2190.712</td>\n",
       "      <td>2182.715</td>\n",
       "      <td>2218.980</td>\n",
       "    </tr>\n",
       "  </tbody>\n",
       "</table>\n",
       "<p>5 rows × 29 columns</p>\n",
       "</div>"
      ],
      "text/plain": [
       "            Open     High      Low    Close  Volume_(BTC)  Volume_(Currency)  Weighted_Price  \\\n",
       "2841372  2190.49  2190.49  2181.37  2181.37         1.700           3723.785        2190.247   \n",
       "2841373  2190.50  2197.52  2186.17  2195.63         6.561          14402.812        2195.206   \n",
       "2841374  2195.62  2197.52  2191.52  2191.83        15.663          34361.024        2193.792   \n",
       "2841375  2195.82  2216.00  2195.82  2203.51        27.090          59913.493        2211.621   \n",
       "2841376  2201.70  2209.81  2196.98  2208.33         9.962          21972.309        2205.649   \n",
       "\n",
       "         short_mavg  long_mavg  signal  ...  RSI200    %K10    %D10    %K30    %D30   %K200  \\\n",
       "2841372    2179.259   2189.616     0.0  ...  46.613  56.447  73.774  47.883  59.889  16.012   \n",
       "2841373    2181.622   2189.877     0.0  ...  47.638  93.687  71.712  93.805  65.119  26.697   \n",
       "2841374    2183.605   2189.943     0.0  ...  47.395  80.995  77.043  81.350  74.346  23.850   \n",
       "2841375    2187.018   2190.204     0.0  ...  48.213  74.205  82.963  74.505  83.220  32.602   \n",
       "2841376    2190.712   2190.510     1.0  ...  48.545  82.810  79.337  84.344  80.066  36.440   \n",
       "\n",
       "          %D200      MA21      MA63     MA252  \n",
       "2841372  18.930  2179.259  2182.291  2220.727  \n",
       "2841373  20.096  2181.622  2182.292  2220.295  \n",
       "2841374  22.186  2183.605  2182.120  2219.802  \n",
       "2841375  27.716  2187.018  2182.337  2219.396  \n",
       "2841376  30.964  2190.712  2182.715  2218.980  \n",
       "\n",
       "[5 rows x 29 columns]"
      ]
     },
     "execution_count": 14,
     "metadata": {},
     "output_type": "execute_result"
    }
   ],
   "source": [
    "dataset.tail()"
   ]
  },
  {
   "cell_type": "code",
   "execution_count": 99,
   "metadata": {},
   "outputs": [],
   "source": [
    "#excluding columns that are not needed for our prediction.\n",
    "\n",
    "dataset=dataset.drop(['High','Low','Open', 'Volume_(Currency)','short_mavg','long_mavg'], axis=1)"
   ]
  },
  {
   "cell_type": "code",
   "execution_count": 58,
   "metadata": {},
   "outputs": [],
   "source": [
    "dataset = dataset.dropna(axis=0)"
   ]
  },
  {
   "cell_type": "code",
   "execution_count": 59,
   "metadata": {},
   "outputs": [
    {
     "data": {
      "text/html": [
       "<div>\n",
       "<style scoped>\n",
       "    .dataframe tbody tr th:only-of-type {\n",
       "        vertical-align: middle;\n",
       "    }\n",
       "\n",
       "    .dataframe tbody tr th {\n",
       "        vertical-align: top;\n",
       "    }\n",
       "\n",
       "    .dataframe thead th {\n",
       "        text-align: right;\n",
       "    }\n",
       "</style>\n",
       "<table border=\"1\" class=\"dataframe\">\n",
       "  <thead>\n",
       "    <tr style=\"text-align: right;\">\n",
       "      <th></th>\n",
       "      <th>Open</th>\n",
       "      <th>High</th>\n",
       "      <th>Low</th>\n",
       "      <th>Close</th>\n",
       "      <th>Volume_(BTC)</th>\n",
       "      <th>Volume_(Currency)</th>\n",
       "      <th>Weighted_Price</th>\n",
       "      <th>short_mavg</th>\n",
       "      <th>long_mavg</th>\n",
       "      <th>signal</th>\n",
       "      <th>...</th>\n",
       "      <th>RSI200</th>\n",
       "      <th>%K10</th>\n",
       "      <th>%D10</th>\n",
       "      <th>%K30</th>\n",
       "      <th>%D30</th>\n",
       "      <th>%K200</th>\n",
       "      <th>%D200</th>\n",
       "      <th>MA21</th>\n",
       "      <th>MA63</th>\n",
       "      <th>MA252</th>\n",
       "    </tr>\n",
       "  </thead>\n",
       "  <tbody>\n",
       "    <tr>\n",
       "      <th>2841372</th>\n",
       "      <td>2190.49</td>\n",
       "      <td>2190.49</td>\n",
       "      <td>2181.37</td>\n",
       "      <td>2181.37</td>\n",
       "      <td>1.700</td>\n",
       "      <td>3723.785</td>\n",
       "      <td>2190.247</td>\n",
       "      <td>2179.259</td>\n",
       "      <td>2189.616</td>\n",
       "      <td>0.0</td>\n",
       "      <td>...</td>\n",
       "      <td>46.613</td>\n",
       "      <td>56.447</td>\n",
       "      <td>73.774</td>\n",
       "      <td>47.883</td>\n",
       "      <td>59.889</td>\n",
       "      <td>16.012</td>\n",
       "      <td>18.930</td>\n",
       "      <td>2179.259</td>\n",
       "      <td>2182.291</td>\n",
       "      <td>2220.727</td>\n",
       "    </tr>\n",
       "    <tr>\n",
       "      <th>2841373</th>\n",
       "      <td>2190.50</td>\n",
       "      <td>2197.52</td>\n",
       "      <td>2186.17</td>\n",
       "      <td>2195.63</td>\n",
       "      <td>6.561</td>\n",
       "      <td>14402.812</td>\n",
       "      <td>2195.206</td>\n",
       "      <td>2181.622</td>\n",
       "      <td>2189.877</td>\n",
       "      <td>0.0</td>\n",
       "      <td>...</td>\n",
       "      <td>47.638</td>\n",
       "      <td>93.687</td>\n",
       "      <td>71.712</td>\n",
       "      <td>93.805</td>\n",
       "      <td>65.119</td>\n",
       "      <td>26.697</td>\n",
       "      <td>20.096</td>\n",
       "      <td>2181.622</td>\n",
       "      <td>2182.292</td>\n",
       "      <td>2220.295</td>\n",
       "    </tr>\n",
       "    <tr>\n",
       "      <th>2841374</th>\n",
       "      <td>2195.62</td>\n",
       "      <td>2197.52</td>\n",
       "      <td>2191.52</td>\n",
       "      <td>2191.83</td>\n",
       "      <td>15.663</td>\n",
       "      <td>34361.024</td>\n",
       "      <td>2193.792</td>\n",
       "      <td>2183.605</td>\n",
       "      <td>2189.943</td>\n",
       "      <td>0.0</td>\n",
       "      <td>...</td>\n",
       "      <td>47.395</td>\n",
       "      <td>80.995</td>\n",
       "      <td>77.043</td>\n",
       "      <td>81.350</td>\n",
       "      <td>74.346</td>\n",
       "      <td>23.850</td>\n",
       "      <td>22.186</td>\n",
       "      <td>2183.605</td>\n",
       "      <td>2182.120</td>\n",
       "      <td>2219.802</td>\n",
       "    </tr>\n",
       "    <tr>\n",
       "      <th>2841375</th>\n",
       "      <td>2195.82</td>\n",
       "      <td>2216.00</td>\n",
       "      <td>2195.82</td>\n",
       "      <td>2203.51</td>\n",
       "      <td>27.090</td>\n",
       "      <td>59913.493</td>\n",
       "      <td>2211.621</td>\n",
       "      <td>2187.018</td>\n",
       "      <td>2190.204</td>\n",
       "      <td>0.0</td>\n",
       "      <td>...</td>\n",
       "      <td>48.213</td>\n",
       "      <td>74.205</td>\n",
       "      <td>82.963</td>\n",
       "      <td>74.505</td>\n",
       "      <td>83.220</td>\n",
       "      <td>32.602</td>\n",
       "      <td>27.716</td>\n",
       "      <td>2187.018</td>\n",
       "      <td>2182.337</td>\n",
       "      <td>2219.396</td>\n",
       "    </tr>\n",
       "    <tr>\n",
       "      <th>2841376</th>\n",
       "      <td>2201.70</td>\n",
       "      <td>2209.81</td>\n",
       "      <td>2196.98</td>\n",
       "      <td>2208.33</td>\n",
       "      <td>9.962</td>\n",
       "      <td>21972.309</td>\n",
       "      <td>2205.649</td>\n",
       "      <td>2190.712</td>\n",
       "      <td>2190.510</td>\n",
       "      <td>1.0</td>\n",
       "      <td>...</td>\n",
       "      <td>48.545</td>\n",
       "      <td>82.810</td>\n",
       "      <td>79.337</td>\n",
       "      <td>84.344</td>\n",
       "      <td>80.066</td>\n",
       "      <td>36.440</td>\n",
       "      <td>30.964</td>\n",
       "      <td>2190.712</td>\n",
       "      <td>2182.715</td>\n",
       "      <td>2218.980</td>\n",
       "    </tr>\n",
       "  </tbody>\n",
       "</table>\n",
       "<p>5 rows × 29 columns</p>\n",
       "</div>"
      ],
      "text/plain": [
       "            Open     High      Low    Close  Volume_(BTC)  Volume_(Currency)  Weighted_Price  \\\n",
       "2841372  2190.49  2190.49  2181.37  2181.37         1.700           3723.785        2190.247   \n",
       "2841373  2190.50  2197.52  2186.17  2195.63         6.561          14402.812        2195.206   \n",
       "2841374  2195.62  2197.52  2191.52  2191.83        15.663          34361.024        2193.792   \n",
       "2841375  2195.82  2216.00  2195.82  2203.51        27.090          59913.493        2211.621   \n",
       "2841376  2201.70  2209.81  2196.98  2208.33         9.962          21972.309        2205.649   \n",
       "\n",
       "         short_mavg  long_mavg  signal  ...  RSI200    %K10    %D10    %K30    %D30   %K200  \\\n",
       "2841372    2179.259   2189.616     0.0  ...  46.613  56.447  73.774  47.883  59.889  16.012   \n",
       "2841373    2181.622   2189.877     0.0  ...  47.638  93.687  71.712  93.805  65.119  26.697   \n",
       "2841374    2183.605   2189.943     0.0  ...  47.395  80.995  77.043  81.350  74.346  23.850   \n",
       "2841375    2187.018   2190.204     0.0  ...  48.213  74.205  82.963  74.505  83.220  32.602   \n",
       "2841376    2190.712   2190.510     1.0  ...  48.545  82.810  79.337  84.344  80.066  36.440   \n",
       "\n",
       "          %D200      MA21      MA63     MA252  \n",
       "2841372  18.930  2179.259  2182.291  2220.727  \n",
       "2841373  20.096  2181.622  2182.292  2220.295  \n",
       "2841374  22.186  2183.605  2182.120  2219.802  \n",
       "2841375  27.716  2187.018  2182.337  2219.396  \n",
       "2841376  30.964  2190.712  2182.715  2218.980  \n",
       "\n",
       "[5 rows x 29 columns]"
      ]
     },
     "execution_count": 59,
     "metadata": {},
     "output_type": "execute_result"
    }
   ],
   "source": [
    "dataset.tail()"
   ]
  },
  {
   "cell_type": "markdown",
   "metadata": {},
   "source": [
    "<a id='3.4'></a>\n",
    "## 4.4. Data Visualization"
   ]
  },
  {
   "cell_type": "code",
   "execution_count": 60,
   "metadata": {},
   "outputs": [
    {
     "data": {
      "image/png": "[encoded data removed]",
      "text/plain": [
       "<Figure size 432x288 with 1 Axes>"
      ]
     },
     "metadata": {
      "needs_background": "light"
     },
     "output_type": "display_data"
    }
   ],
   "source": [
    "dataset[['Weighted_Price']].plot(grid=True)\n",
    "plt.show()"
   ]
  },
  {
   "cell_type": "code",
   "execution_count": 24,
   "metadata": {},
   "outputs": [
    {
     "data": {
      "image/png": "[encoded data removed]",
      "text/plain": [
       "<Figure size 864x864 with 25 Axes>"
      ]
     },
     "metadata": {
      "needs_background": "light"
     },
     "output_type": "display_data"
    }
   ],
   "source": [
    "# histograms\n",
    "dataset.hist(sharex=False, sharey=False, xlabelsize=1, ylabelsize=1, figsize=(12,12))\n",
    "plt.show()"
   ]
  },
  {
   "cell_type": "code",
   "execution_count": 27,
   "metadata": {},
   "outputs": [
    {
     "name": "stdout",
     "output_type": "stream",
     "text": [
      "upward  52.87167614854236% out of 2342012 total datasize\n"
     ]
    },
    {
     "data": {
      "image/png": "[encoded data removed]",
      "text/plain": [
       "<Figure size 432x288 with 1 Axes>"
      ]
     },
     "metadata": {
      "needs_background": "light"
     },
     "output_type": "display_data"
    }
   ],
   "source": [
    "fig = plt.figure()\n",
    "plot = dataset.groupby(['signal']).size().plot(kind='barh', color='red')\n",
    "plt.show()"
   ]
  },
  {
   "cell_type": "markdown",
   "metadata": {},
   "source": [
    "The predicted variable is upward 52.87% out of total data-size, meaning that number\n",
    "of the buy signals were more than the number of sell signals. "
   ]
  },
  {
   "cell_type": "code",
   "execution_count": 28,
   "metadata": {},
   "outputs": [
    {
     "data": {
      "text/plain": [
       "<matplotlib.axes._subplots.AxesSubplot at 0x2a900887c50>"
      ]
     },
     "execution_count": 28,
     "metadata": {},
     "output_type": "execute_result"
    },
    {
     "data": {
      "image/png": "[encoded data removed]",
      "text/plain": [
       "<Figure size 1080x1080 with 2 Axes>"
      ]
     },
     "metadata": {
      "needs_background": "light"
     },
     "output_type": "display_data"
    }
   ],
   "source": [
    "# correlation\n",
    "correlation = dataset.corr()\n",
    "plt.figure(figsize=(15,15))\n",
    "plt.title('Correlation Matrix')\n",
    "sns.heatmap(correlation, vmax=1, square=True,annot=True,cmap='cubehelix')"
   ]
  },
  {
   "cell_type": "markdown",
   "metadata": {},
   "source": [
    "<a id='4'></a>\n",
    "# 5. Evaluate Algorithms and Models"
   ]
  },
  {
   "cell_type": "markdown",
   "metadata": {},
   "source": [
    "<a id='4.1'></a>\n",
    "## 5.1. Train Test Split"
   ]
  },
  {
   "cell_type": "markdown",
   "metadata": {},
   "source": [
    "We split the dataset into 80% training set and 20% test set."
   ]
  },
  {
   "cell_type": "code",
   "execution_count": 103,
   "metadata": {},
   "outputs": [],
   "source": [
    "# split out validation dataset for the end\n",
    "subset_dataset= dataset.iloc[-100000:]\n",
    "Y= subset_dataset[\"signal\"]\n",
    "X = subset_dataset.loc[:, dataset.columns != 'signal']\n",
    "validation_size = 0.2\n",
    "seed = 1\n",
    "X_train, X_validation, Y_train, Y_validation = train_test_split(X, Y, test_size=validation_size, random_state=1)"
   ]
  },
  {
   "cell_type": "markdown",
   "metadata": {},
   "source": [
    "<a id='4.2'></a>\n",
    "## 5.2. Test Options and Evaluation Metrics\n"
   ]
  },
  {
   "cell_type": "code",
   "execution_count": 101,
   "metadata": {
    "_cell_guid": "5702bc31-06bf-8b6a-42de-366a6b3311a8"
   },
   "outputs": [],
   "source": [
    "# test options for classification\n",
    "num_folds = 10\n",
    "seed = 7\n",
    "scoring = 'accuracy'\n",
    "#scoring = 'precision'\n",
    "#scoring = 'recall'\n",
    "#scoring ='neg_log_loss'\n",
    "#scoring = 'roc_auc'"
   ]
  },
  {
   "cell_type": "markdown",
   "metadata": {},
   "source": [
    "<a id='4.3'></a>\n",
    "## 5.3. Compare Models and Algorithms"
   ]
  },
  {
   "cell_type": "markdown",
   "metadata": {},
   "source": [
    "In order to know which algorithm technic is the best for our strategy, we evaluate following non linear different methods:"
   ]
  },
  {
   "cell_type": "markdown",
   "metadata": {},
   "source": [
    "<a id='4.3.1'></a>\n",
    "### 5.3.1. Models"
   ]
  },
  {
   "cell_type": "code",
   "execution_count": 113,
   "metadata": {
    "_cell_guid": "772802f7-f4e4-84ee-6377-6464ab2e5da4"
   },
   "outputs": [],
   "source": [
    "# spot check the algorithms\n",
    "models = []\n",
    "models.append(('LR', LogisticRegression(n_jobs=-1)))\n",
    "models.append(('LDA', LinearDiscriminantAnalysis()))\n",
    "models.append(('KNN', KNeighborsClassifier()))\n",
    "models.append(('CART', DecisionTreeClassifier()))\n",
    "models.append(('NB', GaussianNB()))\n",
    "#Neural Network\n",
    "models.append(('NN', MLPClassifier()))\n",
    "#Ensable Models \n",
    "# Boosting methods\n",
    "models.append(('AB', AdaBoostClassifier()))\n",
    "models.append(('GBM', GradientBoostingClassifier()))\n",
    "# Bagging methods\n",
    "models.append(('RF', RandomForestClassifier(n_jobs=-1)))"
   ]
  },
  {
   "cell_type": "markdown",
   "metadata": {},
   "source": [
    "### K-folds cross validation"
   ]
  },
  {
   "cell_type": "code",
   "execution_count": 114,
   "metadata": {
    "_cell_guid": "a784ab4a-eb59-98cc-76cf-b55f382d057a"
   },
   "outputs": [
    {
     "name": "stdout",
     "output_type": "stream",
     "text": [
      "LR: 0.955325 (0.003463)\n",
      "LDA: 0.889112 (0.005189)\n",
      "KNN: 0.869538 (0.003701)\n",
      "CART: 0.895537 (0.002440)\n",
      "NB: 0.789650 (0.004450)\n",
      "NN: 0.842437 (0.042223)\n",
      "AB: 0.896513 (0.003328)\n",
      "GBM: 0.908988 (0.003471)\n",
      "RF: 0.916100 (0.003465)\n"
     ]
    }
   ],
   "source": [
    "results = []\n",
    "names = []\n",
    "for name, model in models:\n",
    "    kfold = KFold(n_splits=num_folds, random_state=seed)\n",
    "    cv_results = cross_val_score(model, X_train, Y_train, cv=kfold, scoring=scoring)\n",
    "    results.append(cv_results)\n",
    "    names.append(name)\n",
    "    msg = \"%s: %f (%f)\" % (name, cv_results.mean(), cv_results.std())\n",
    "    print(msg)"
   ]
  },
  {
   "cell_type": "code",
   "execution_count": 118,
   "metadata": {
    "_cell_guid": "67873e9d-bc9b-6963-f594-805f1efbfbb3"
   },
   "outputs": [
    {
     "data": {
      "image/png": "[encoded data removed]",
      "text/plain": [
       "<Figure size 1080x576 with 1 Axes>"
      ]
     },
     "metadata": {
      "needs_background": "light"
     },
     "output_type": "display_data"
    }
   ],
   "source": [
    "# compare algorithms\n",
    "fig = plt.figure()\n",
    "fig.suptitle('Algorithm Comparison')\n",
    "ax = fig.add_subplot(111)\n",
    "plt.boxplot(results)\n",
    "ax.set_xticklabels(names)\n",
    "fig.set_size_inches(15,8)\n",
    "plt.show()"
   ]
  },
  {
   "cell_type": "markdown",
   "metadata": {},
   "source": [
    "<a id='5'></a>\n",
    "# 6. Model Tuning and Grid Search"
   ]
  },
  {
   "cell_type": "markdown",
   "metadata": {
    "_cell_guid": "848ca488-b0fd-8e93-2e68-23d32c71d89c"
   },
   "source": [
    "Random forest is selected for the grid search as it is one of the best models out of all."
   ]
  },
  {
   "cell_type": "code",
   "execution_count": 120,
   "metadata": {},
   "outputs": [
    {
     "name": "stdout",
     "output_type": "stream",
     "text": [
      "Best: 0.903438 using {'criterion': 'gini', 'max_depth': 10, 'n_estimators': 80}\n",
      "#7 0.868487 (0.002811) with: {'criterion': 'gini', 'max_depth': 5, 'n_estimators': 20}\n",
      "#5 0.870788 (0.002482) with: {'criterion': 'gini', 'max_depth': 5, 'n_estimators': 80}\n",
      "#2 0.902900 (0.002600) with: {'criterion': 'gini', 'max_depth': 10, 'n_estimators': 20}\n",
      "#1 0.903438 (0.003581) with: {'criterion': 'gini', 'max_depth': 10, 'n_estimators': 80}\n",
      "#8 0.865300 (0.004989) with: {'criterion': 'entropy', 'max_depth': 5, 'n_estimators': 20}\n",
      "#6 0.869950 (0.003233) with: {'criterion': 'entropy', 'max_depth': 5, 'n_estimators': 80}\n",
      "#4 0.900088 (0.003467) with: {'criterion': 'entropy', 'max_depth': 10, 'n_estimators': 20}\n",
      "#3 0.902438 (0.003209) with: {'criterion': 'entropy', 'max_depth': 10, 'n_estimators': 80}\n"
     ]
    }
   ],
   "source": [
    "# Grid Search: Random Forest Classifier\n",
    "'''\n",
    "n_estimators : int (default=100)\n",
    "    The number of boosting stages to perform. \n",
    "    Gradient boosting is fairly robust to over-fitting so a large number usually results in better performance.\n",
    "max_depth : integer, optional (default=3)\n",
    "    maximum depth of the individual regression estimators. \n",
    "    The maximum depth limits the number of nodes in the tree. \n",
    "    Tune this parameter for best performance; the best value depends on the interaction of the input variables    \n",
    "criterion : string, optional (default=”gini”)\n",
    "    The function to measure the quality of a split. \n",
    "    Supported criteria are “gini” for the Gini impurity and “entropy” for the information gain. \n",
    "    \n",
    "'''   \n",
    "scaler = StandardScaler().fit(X_train)\n",
    "rescaledX = scaler.transform(X_train)\n",
    "n_estimators = [20,80]\n",
    "max_depth= [5,10]\n",
    "criterion = [\"gini\",\"entropy\"]\n",
    "param_grid = dict(n_estimators=n_estimators, max_depth=max_depth, criterion = criterion )\n",
    "model = RandomForestClassifier(n_jobs=-1)\n",
    "kfold = KFold(n_splits=num_folds, random_state=seed)\n",
    "grid = GridSearchCV(estimator=model, param_grid=param_grid, scoring=scoring, cv=kfold)\n",
    "grid_result = grid.fit(rescaledX, Y_train)\n",
    "\n",
    "#Print Results\n",
    "print(\"Best: %f using %s\" % (grid_result.best_score_, grid_result.best_params_))\n",
    "means = grid_result.cv_results_['mean_test_score']\n",
    "stds = grid_result.cv_results_['std_test_score']\n",
    "params = grid_result.cv_results_['params']\n",
    "ranks = grid_result.cv_results_['rank_test_score']\n",
    "for mean, stdev, param, rank in zip(means, stds, params, ranks):\n",
    "    print(\"#%d %f (%f) with: %r\" % (rank, mean, stdev, param))"
   ]
  },
  {
   "cell_type": "markdown",
   "metadata": {},
   "source": [
    "<a id='6'></a>\n",
    "# 7. Finalise the Model"
   ]
  },
  {
   "cell_type": "markdown",
   "metadata": {},
   "source": [
    "Finalizing the model with best parameters found during tuning step."
   ]
  },
  {
   "cell_type": "markdown",
   "metadata": {},
   "source": [
    "<a id='6.1'></a>\n",
    "## 7.1. Results on the Test Dataset"
   ]
  },
  {
   "cell_type": "code",
   "execution_count": 122,
   "metadata": {},
   "outputs": [
    {
     "data": {
      "text/plain": [
       "RandomForestClassifier(bootstrap=True, class_weight=None, criterion='gini',\n",
       "                       max_depth=10, max_features='auto', max_leaf_nodes=None,\n",
       "                       min_impurity_decrease=0.0, min_impurity_split=None,\n",
       "                       min_samples_leaf=1, min_samples_split=2,\n",
       "                       min_weight_fraction_leaf=0.0, n_estimators=80, n_jobs=-1,\n",
       "                       oob_score=False, random_state=None, verbose=0,\n",
       "                       warm_start=False)"
      ]
     },
     "execution_count": 122,
     "metadata": {},
     "output_type": "execute_result"
    }
   ],
   "source": [
    "# prepare model\n",
    "model = RandomForestClassifier(criterion='gini', n_estimators=80,max_depth=10,n_jobs=-1) # rbf is default kernel\n",
    "#model = LogisticRegression() \n",
    "model.fit(X_train, Y_train)"
   ]
  },
  {
   "cell_type": "code",
   "execution_count": 123,
   "metadata": {
    "_cell_guid": "f9725666-3c21-69d1-ddf6-45e47d982444"
   },
   "outputs": [
    {
     "name": "stdout",
     "output_type": "stream",
     "text": [
      "0.9075\n",
      "[[ 7852   966]\n",
      " [  884 10298]]\n",
      "              precision    recall  f1-score   support\n",
      "\n",
      "         0.0       0.90      0.89      0.89      8818\n",
      "         1.0       0.91      0.92      0.92     11182\n",
      "\n",
      "    accuracy                           0.91     20000\n",
      "   macro avg       0.91      0.91      0.91     20000\n",
      "weighted avg       0.91      0.91      0.91     20000\n",
      "\n"
     ]
    }
   ],
   "source": [
    "# estimate accuracy on validation set\n",
    "predictions = model.predict(X_validation)\n",
    "print(accuracy_score(Y_validation, predictions))\n",
    "print(confusion_matrix(Y_validation, predictions))\n",
    "print(classification_report(Y_validation, predictions))"
   ]
  },
  {
   "cell_type": "code",
   "execution_count": 124,
   "metadata": {},
   "outputs": [
    {
     "data": {
      "text/plain": [
       "<matplotlib.axes._subplots.AxesSubplot at 0x2a92ca6b7f0>"
      ]
     },
     "execution_count": 124,
     "metadata": {},
     "output_type": "execute_result"
    },
    {
     "data": {
      "image/png": "[encoded data removed]",
      "text/plain": [
       "<Figure size 432x288 with 2 Axes>"
      ]
     },
     "metadata": {
      "needs_background": "light"
     },
     "output_type": "display_data"
    }
   ],
   "source": [
    "df_cm = pd.DataFrame(confusion_matrix(Y_validation, predictions), columns=np.unique(Y_validation), index = np.unique(Y_validation))\n",
    "df_cm.index.name = 'Actual'\n",
    "df_cm.columns.name = 'Predicted'\n",
    "sns.heatmap(df_cm, cmap=\"Blues\", annot=True,annot_kws={\"size\": 16})# font sizes"
   ]
  },
  {
   "cell_type": "markdown",
   "metadata": {},
   "source": [
    "<a id='6.2'></a>\n",
    "## 7.2. Variable Intuition/Feature Importance\n",
    "Let us look into the Feature Importance of the model"
   ]
  },
  {
   "cell_type": "code",
   "execution_count": 125,
   "metadata": {},
   "outputs": [
    {
     "data": {
      "text/plain": [
       "Text(0.5, 0, 'Variable Importance')"
      ]
     },
     "execution_count": 125,
     "metadata": {},
     "output_type": "execute_result"
    },
    {
     "data": {
      "image/png": "[encoded data removed]",
      "text/plain": [
       "<Figure size 432x288 with 1 Axes>"
      ]
     },
     "metadata": {
      "needs_background": "light"
     },
     "output_type": "display_data"
    }
   ],
   "source": [
    "Importance = pd.DataFrame({'Importance':model.feature_importances_*100}, index=X.columns)\n",
    "Importance.sort_values('Importance', axis=0, ascending=True).plot(kind='barh', color='r' )\n",
    "plt.xlabel('Variable Importance')"
   ]
  },
  {
   "cell_type": "markdown",
   "metadata": {},
   "source": [
    "<a id='7'></a>\n",
    "## 8. Backtesting Results"
   ]
  },
  {
   "cell_type": "code",
   "execution_count": 126,
   "metadata": {},
   "outputs": [
    {
     "data": {
      "text/plain": [
       "<matplotlib.axes._subplots.AxesSubplot at 0x2a942819780>"
      ]
     },
     "execution_count": 126,
     "metadata": {},
     "output_type": "execute_result"
    },
    {
     "data": {
      "image/png": "[encoded data removed]",
      "text/plain": [
       "<Figure size 432x288 with 2 Axes>"
      ]
     },
     "metadata": {
      "needs_background": "light"
     },
     "output_type": "display_data"
    },
    {
     "data": {
      "image/png": "[encoded data removed]",
      "text/plain": [
       "<Figure size 432x288 with 1 Axes>"
      ]
     },
     "metadata": {
      "needs_background": "light"
     },
     "output_type": "display_data"
    }
   ],
   "source": [
    "#Create column for Strategy Returns by multiplying the daily returns by the position that was held at close\n",
    "#of business the previous day\n",
    "backtestdata = pd.DataFrame(index=X_validation.index)\n",
    "#backtestdata = pd.DataFrame()\n",
    "backtestdata['signal_pred'] = predictions\n",
    "backtestdata['signal_actual'] = Y_validation\n",
    "backtestdata['Market Returns'] = X_validation['Close'].pct_change()\n",
    "backtestdata['Actual Returns'] = backtestdata['Market Returns'] * backtestdata['signal_actual'].shift(1)\n",
    "backtestdata['Strategy Returns'] = backtestdata['Market Returns'] * backtestdata['signal_pred'].shift(1)\n",
    "backtestdata=backtestdata.reset_index()\n",
    "backtestdata.head()\n",
    "backtestdata[['Strategy Returns','Actual Returns']].cumsum().hist()\n",
    "backtestdata[['Strategy Returns','Actual Returns']].cumsum().plot()"
   ]
  },
  {
   "cell_type": "markdown",
   "metadata": {},
   "source": [
    "__Conclusion__:\n",
    "\n",
    "We showed that framing the problem is the first priority and we address it by engi‐\n",
    "neering the features and transforming the labels according to the investment objective.\n",
    "\n",
    "We demonstrated the efficiency of using feature engineering that leads to creation of\n",
    "intuitive features related to the trend and momentum of the price movement and\n",
    "increases the predictive power of the model.\n",
    "\n",
    "In terms of the evaluation metrics for a classification-based trading strategy, accuracy\n",
    "or auc are appropriate, but in case the strategy is focusing to be more accurate while\n",
    "going long, the metric recall which focuses on less false positive can be preferred as\n",
    "compared to accuracy.\n",
    "\n",
    "Finally, we demonstrated the backtesting framework which allows us to simulate a\n",
    "trading strategy using historical data to generate results and analyze risk and profita‐\n",
    "bility before risking any actual capital.\n"
   ]
  }
 ],
 "metadata": {
  "_change_revision": 206,
  "_is_fork": false,
  "kernelspec": {
   "display_name": "Python 3 (ipykernel)",
   "language": "python",
   "name": "python3"
  },
  "language_info": {
   "codemirror_mode": {
    "name": "ipython",
    "version": 3
   },
   "file_extension": ".py",
   "mimetype": "text/x-python",
   "name": "python",
   "nbconvert_exporter": "python",
   "pygments_lexer": "ipython3",
   "version": "3.9.13"
  }
 },
 "nbformat": 4,
 "nbformat_minor": 4
}
